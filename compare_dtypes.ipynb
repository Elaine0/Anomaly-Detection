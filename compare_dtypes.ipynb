{
 "cells": [
  {
   "cell_type": "code",
   "execution_count": 1,
   "metadata": {},
   "outputs": [
    {
     "name": "stderr",
     "output_type": "stream",
     "text": [
      "Using TensorFlow backend.\n"
     ]
    }
   ],
   "source": [
    "import os\n",
    "import sys\n",
    "\n",
    "import tensorflow as tf\n",
    "from tensorflow import keras\n",
    "\n",
    "from modules import utils as utils\n",
    "\n",
    "# from keras.preprocessing.image import ImageDataGenerator\n",
    "import numpy as np\n",
    "import scipy.stats\n",
    "\n",
    "# import requests\n",
    "import matplotlib.pyplot as plt\n",
    "\n",
    "# plt.style.use(\"seaborn-darkgrid\")\n",
    "import csv\n",
    "import pandas as pd\n",
    "import json\n",
    "\n",
    "import argparse\n",
    "from pathlib import Path\n",
    "\n",
    "\n",
    "# import computer vision functions\n",
    "import cv2\n",
    "from skimage.util import img_as_ubyte\n",
    "from modules.cv import scale_pixel_values as scale_pixel_values\n",
    "from modules.cv import filter_gauss_images as filter_gauss_images\n",
    "from modules.cv import filter_median_images as filter_median_images\n",
    "from modules.cv import threshold_images as threshold_images\n",
    "from modules.cv import label_images as label_images\n",
    "\n",
    "from modules.resmaps import calculate_resmaps\n",
    "import skimage"
   ]
  },
  {
   "cell_type": "markdown",
   "metadata": {},
   "source": [
    "#### import validation and test inputs and reconstructions"
   ]
  },
  {
   "cell_type": "code",
   "execution_count": 2,
   "metadata": {},
   "outputs": [],
   "source": [
    "imgs_val_input = np.load(\"saved_models/mvtec/capsule/mvtec2/SSIM/19-04-2020_14-14-36/inspection_val/imgs_val_input.npy\", allow_pickle=True)\n",
    "imgs_val_pred = np.load(\"saved_models/mvtec/capsule/mvtec2/SSIM/19-04-2020_14-14-36/inspection_val/imgs_val_pred.npy\", allow_pickle=True)\n",
    "\n",
    "imgs_test_input = np.load(\"saved_models/mvtec/capsule/mvtec2/SSIM/19-04-2020_14-14-36/inspection_test/imgs_test_input.npy\", allow_pickle=True)\n",
    "imgs_test_pred = np.load(\"saved_models/mvtec/capsule/mvtec2/SSIM/19-04-2020_14-14-36/inspection_test/imgs_test_pred.npy\", allow_pickle=True)"
   ]
  },
  {
   "cell_type": "markdown",
   "metadata": {},
   "source": [
    "#### compute validation resmaps in different ways"
   ]
  },
  {
   "cell_type": "code",
   "execution_count": 3,
   "metadata": {},
   "outputs": [],
   "source": [
    "# compute resmaps by substracting pred out of input\n",
    "resmaps_val_diff = imgs_val_input - imgs_val_pred\n",
    "# compute resmaps using the ssim method\n",
    "resmaps_val_ssim = calculate_resmaps(imgs_val_input, imgs_val_pred, method=\"SSIM\")\n",
    "# compute resmaps using the L2 method\n",
    "resmaps_val_l2 = calculate_resmaps(imgs_val_input, imgs_val_pred, method=\"L2\")"
   ]
  },
  {
   "cell_type": "markdown",
   "metadata": {},
   "source": [
    "#### compute test resmaps in different ways"
   ]
  },
  {
   "cell_type": "code",
   "execution_count": 4,
   "metadata": {},
   "outputs": [],
   "source": [
    "# compute resmaps by substracting pred out of input\n",
    "resmaps_test_diff = imgs_test_input - imgs_test_pred\n",
    "# compute resmaps using the ssim method\n",
    "resmaps_test_ssim = calculate_resmaps(imgs_test_input, imgs_test_pred, method=\"SSIM\")\n",
    "# compute resmaps using the L2 method\n",
    "resmaps_test_l2 = calculate_resmaps(imgs_test_input, imgs_test_pred, method=\"L2\")"
   ]
  },
  {
   "cell_type": "markdown",
   "metadata": {},
   "source": [
    "### Visualize Image Histograms"
   ]
  },
  {
   "cell_type": "code",
   "execution_count": 5,
   "metadata": {},
   "outputs": [],
   "source": [
    "def hist_image(img, bins=400, range_x=[-1,1], plot_gauss=True, title=None):\n",
    "    # plot histogram\n",
    "    plt.style.use(\"seaborn-darkgrid\")\n",
    "    img_1d = img.flatten()\n",
    "    plt.figure()\n",
    "    plt.hist(img_1d, bins=bins, range=range_x, density=True, stacked=True, label=\"image histogram\")\n",
    "    \n",
    "    # print descriptive values\n",
    "    mu = img_1d.mean()\n",
    "    sigma = img_1d.std()\n",
    "    minimum = np.amin(img_1d)\n",
    "    maximum = np.amax(img_1d)\n",
    "    print(\"{} \\n mu = {} \\n sigma = {} \\n min = {}\\n max = {}\".format(title, mu, sigma, minimum, maximum))\n",
    "    \n",
    "    if plot_gauss:\n",
    "        # compute and plot probability distribution function    \n",
    "        X = np.linspace(start=minimum, stop=maximum, num=200, endpoint=True)\n",
    "        pdf_x = [scipy.stats.norm(mu, sigma).pdf(x) for x in X]\n",
    "        plt.plot(X, pdf_x, label=\"pixel distribution\")\n",
    "        plt.title(title)\n",
    "    \n",
    "    if range_x is not None:\n",
    "        plt.xlim(range_x[0], range_x[1])\n",
    "    plt.legend()\n",
    "    plt.show()"
   ]
  },
  {
   "cell_type": "markdown",
   "metadata": {},
   "source": [
    "#### Inspecting Validation and Test Histograms and data range"
   ]
  },
  {
   "cell_type": "code",
   "execution_count": 6,
   "metadata": {},
   "outputs": [
    {
     "data": {
      "text/plain": [
       "dtype('float32')"
      ]
     },
     "execution_count": 6,
     "metadata": {},
     "output_type": "execute_result"
    }
   ],
   "source": [
    "imgs_val_input.dtype"
   ]
  },
  {
   "cell_type": "code",
   "execution_count": 7,
   "metadata": {},
   "outputs": [
    {
     "data": {
      "text/plain": [
       "dtype('float32')"
      ]
     },
     "execution_count": 7,
     "metadata": {},
     "output_type": "execute_result"
    }
   ],
   "source": [
    "resmaps_val_diff.dtype"
   ]
  },
  {
   "cell_type": "code",
   "execution_count": 8,
   "metadata": {},
   "outputs": [
    {
     "name": "stdout",
     "output_type": "stream",
     "text": [
      "None \n",
      " mu = -0.05801284313201904 \n",
      " sigma = 0.031799957156181335 \n",
      " min = -0.36593306064605713\n",
      " max = 0.3517126739025116\n"
     ]
    },
    {
     "data": {
      "image/png": "[encoded data removed]",
      "text/plain": [
       "<Figure size 432x288 with 1 Axes>"
      ]
     },
     "metadata": {},
     "output_type": "display_data"
    }
   ],
   "source": [
    "hist_image(resmaps_val_diff, range_x=[-1,1])"
   ]
  },
  {
   "cell_type": "code",
   "execution_count": 9,
   "metadata": {},
   "outputs": [
    {
     "name": "stdout",
     "output_type": "stream",
     "text": [
      "None \n",
      " mu = -0.053750693798065186 \n",
      " sigma = 0.036169104278087616 \n",
      " min = -0.623037576675415\n",
      " max = 0.7707493901252747\n"
     ]
    },
    {
     "data": {
      "image/png": "[encoded data removed]",
      "text/plain": [
       "<Figure size 432x288 with 1 Axes>"
      ]
     },
     "metadata": {},
     "output_type": "display_data"
    }
   ],
   "source": [
    "hist_image(resmaps_test_diff, range_x=[-1,1])"
   ]
  },
  {
   "cell_type": "code",
   "execution_count": 10,
   "metadata": {},
   "outputs": [
    {
     "name": "stdout",
     "output_type": "stream",
     "text": [
      "None \n",
      " mu = 0.0043767280876636505 \n",
      " sigma = 0.0037513701245188713 \n",
      " min = 4.9960036108132044e-14\n",
      " max = 0.1339070051908493\n"
     ]
    },
    {
     "data": {
      "image/png": "[encoded data removed]",
      "text/plain": [
       "<Figure size 432x288 with 1 Axes>"
      ]
     },
     "metadata": {},
     "output_type": "display_data"
    }
   ],
   "source": [
    "hist_image(resmaps_val_l2, range_x=[-1,1])"
   ]
  },
  {
   "cell_type": "code",
   "execution_count": 11,
   "metadata": {},
   "outputs": [
    {
     "name": "stdout",
     "output_type": "stream",
     "text": [
      "None \n",
      " mu = 0.035270480178012056 \n",
      " sigma = 0.06358052510564811 \n",
      " min = 0.0014516243292440612\n",
      " max = 1.0\n"
     ]
    },
    {
     "data": {
      "image/png": "[encoded data removed]",
      "text/plain": [
       "<Figure size 432x288 with 1 Axes>"
      ]
     },
     "metadata": {},
     "output_type": "display_data"
    }
   ],
   "source": [
    "hist_image(resmaps_val_ssim, range_x=[-1,1])"
   ]
  },
  {
   "cell_type": "code",
   "execution_count": 12,
   "metadata": {},
   "outputs": [
    {
     "name": "stdout",
     "output_type": "stream",
     "text": [
      "None \n",
      " mu = 0.037864892889847124 \n",
      " sigma = 0.07560001306768648 \n",
      " min = 0.0006165190299610712\n",
      " max = 1.0\n"
     ]
    },
    {
     "data": {
      "image/png": "[encoded data removed]",
      "text/plain": [
       "<Figure size 432x288 with 1 Axes>"
      ]
     },
     "metadata": {},
     "output_type": "display_data"
    }
   ],
   "source": [
    "hist_image(resmaps_test_ssim, range_x=[-1,1])"
   ]
  },
  {
   "cell_type": "markdown",
   "metadata": {},
   "source": [
    "# Investigating different Image dtypes"
   ]
  },
  {
   "cell_type": "code",
   "execution_count": 13,
   "metadata": {},
   "outputs": [],
   "source": [
    "from skimage.util import img_as_ubyte\n",
    "from skimage.util import img_as_uint"
   ]
  },
  {
   "cell_type": "code",
   "execution_count": 18,
   "metadata": {},
   "outputs": [],
   "source": [
    "def hist_image_uint(img, range_x=None, plot_gauss=True, title=None):\n",
    "    # plot histogram    \n",
    "    plt.style.use(\"seaborn-darkgrid\")\n",
    "    plt.figure()\n",
    "    # compute bin edges\n",
    "    img_1d = img.flatten()\n",
    "    d = np.diff(np.unique(img_1d)).min()\n",
    "    left_of_first_bin = img_1d.min() - float(d)/2\n",
    "    right_of_last_bin = img_1d.max() + float(d)/2  \n",
    "    bins = np.arange(left_of_first_bin, right_of_last_bin + d, d)\n",
    "    plt.hist(img_1d, bins=bins, density=True, stacked=True, label=\"pixel value histogram\")\n",
    "    \n",
    "    # print descriptive values\n",
    "    mu = img_1d.mean()\n",
    "    sigma = img_1d.std()\n",
    "    minimum = np.amin(img_1d)\n",
    "    maximum = np.amax(img_1d)\n",
    "    print(\"{} \\n mu = {} \\n sigma = {} \\n min = {}\\n max = {}\".format(title, mu, sigma, minimum, maximum))\n",
    "    \n",
    "    if plot_gauss:\n",
    "        # compute and plot probability distribution function    \n",
    "        X = np.linspace(start=minimum, stop=maximum, num=200, endpoint=True)\n",
    "        pdf_x = [scipy.stats.norm(mu, sigma).pdf(x) for x in X]\n",
    "        plt.plot(X, pdf_x, label=\"pixel distribution\")\n",
    "        plt.title(title)\n",
    "    \n",
    "    if range_x is not None:\n",
    "        plt.xlim(range_x[0], range_x[1])\n",
    "    \n",
    "    plt.legend()\n",
    "    plt.show()\n",
    "    \n",
    "    return bins"
   ]
  },
  {
   "cell_type": "code",
   "execution_count": 19,
   "metadata": {},
   "outputs": [],
   "source": [
    "resmaps_val_uint8 = img_as_ubyte(resmaps_val_ssim.copy())\n",
    "resmaps_test_uint8 = img_as_ubyte(resmaps_test_ssim.copy())\n",
    "\n",
    "resmaps_val_uint16 = img_as_uint(resmaps_val_ssim.copy())\n",
    "resmaps_test_uint16 = img_as_uint(resmaps_test_ssim.copy())"
   ]
  },
  {
   "cell_type": "code",
   "execution_count": 20,
   "metadata": {},
   "outputs": [
    {
     "name": "stdout",
     "output_type": "stream",
     "text": [
      "None \n",
      " mu = 8.99417477562314 \n",
      " sigma = 16.21563167789358 \n",
      " min = 0\n",
      " max = 255\n"
     ]
    },
    {
     "data": {
      "image/png": "[encoded data removed]",
      "text/plain": [
       "<Figure size 432x288 with 1 Axes>"
      ]
     },
     "metadata": {},
     "output_type": "display_data"
    }
   ],
   "source": [
    "bins_val_uint8 = hist_image_uint(resmaps_val_uint8, plot_gauss=False)"
   ]
  },
  {
   "cell_type": "code",
   "execution_count": 28,
   "metadata": {},
   "outputs": [
    {
     "data": {
      "text/plain": [
       "array([-0.5,  0.5,  1.5,  2.5,  3.5,  4.5,  5.5,  6.5,  7.5,  8.5])"
      ]
     },
     "execution_count": 28,
     "metadata": {},
     "output_type": "execute_result"
    }
   ],
   "source": [
    "bins_val_uint8[:10]"
   ]
  },
  {
   "cell_type": "code",
   "execution_count": 22,
   "metadata": {},
   "outputs": [
    {
     "data": {
      "text/plain": [
       "1.0"
      ]
     },
     "execution_count": 22,
     "metadata": {},
     "output_type": "execute_result"
    }
   ],
   "source": [
    "np.diff(np.unique(bins_val_uint8)).min()"
   ]
  },
  {
   "cell_type": "code",
   "execution_count": 23,
   "metadata": {},
   "outputs": [
    {
     "name": "stdout",
     "output_type": "stream",
     "text": [
      "None \n",
      " mu = 2311.4512648809523 \n",
      " sigma = 4166.749652607837 \n",
      " min = 95\n",
      " max = 65535\n"
     ]
    },
    {
     "data": {
      "image/png": "[encoded data removed]",
      "text/plain": [
       "<Figure size 432x288 with 1 Axes>"
      ]
     },
     "metadata": {},
     "output_type": "display_data"
    }
   ],
   "source": [
    "bins_val_uint16 = hist_image_uint(resmaps_val_uint16, plot_gauss=False)"
   ]
  },
  {
   "cell_type": "code",
   "execution_count": 24,
   "metadata": {},
   "outputs": [
    {
     "data": {
      "text/plain": [
       "1.0"
      ]
     },
     "execution_count": 24,
     "metadata": {},
     "output_type": "execute_result"
    }
   ],
   "source": [
    "np.diff(np.unique(bins_val_uint16)).min()"
   ]
  },
  {
   "cell_type": "code",
   "execution_count": 25,
   "metadata": {},
   "outputs": [
    {
     "data": {
      "text/plain": [
       "array([ 94.5,  95.5,  96.5,  97.5,  98.5,  99.5, 100.5, 101.5, 102.5,\n",
       "       103.5])"
      ]
     },
     "execution_count": 25,
     "metadata": {},
     "output_type": "execute_result"
    }
   ],
   "source": [
    "bins_val_uint16[:10]"
   ]
  },
  {
   "cell_type": "code",
   "execution_count": 26,
   "metadata": {},
   "outputs": [
    {
     "data": {
      "text/plain": [
       "65535.5"
      ]
     },
     "execution_count": 26,
     "metadata": {},
     "output_type": "execute_result"
    }
   ],
   "source": [
    "np.amax(bins_val_uint16)"
   ]
  },
  {
   "cell_type": "code",
   "execution_count": 27,
   "metadata": {},
   "outputs": [
    {
     "data": {
      "text/plain": [
       "94.5"
      ]
     },
     "execution_count": 27,
     "metadata": {},
     "output_type": "execute_result"
    }
   ],
   "source": [
    "np.amin(bins_val_uint16)"
   ]
  },
  {
   "cell_type": "code",
   "execution_count": 59,
   "metadata": {},
   "outputs": [
    {
     "name": "stdout",
     "output_type": "stream",
     "text": [
      "None \n",
      " mu = 9.65642397331469 \n",
      " sigma = 19.27968216346663 \n",
      " min = 0\n",
      " max = 255\n"
     ]
    },
    {
     "data": {
      "image/png": "[encoded data removed]",
      "text/plain": [
       "<Figure size 432x288 with 1 Axes>"
      ]
     },
     "metadata": {},
     "output_type": "display_data"
    }
   ],
   "source": [
    "bins_test_uint8 = hist_image_uint(resmaps_test_uint8, plot_gauss=False)"
   ]
  },
  {
   "cell_type": "code",
   "execution_count": null,
   "metadata": {},
   "outputs": [],
   "source": [
    "bins_test_uint16 = hist_image_uint(resmaps_test_uint16, plot_gauss=False)"
   ]
  },
  {
   "cell_type": "code",
   "execution_count": null,
   "metadata": {},
   "outputs": [],
   "source": [
    "bins_test_uint16"
   ]
  },
  {
   "cell_type": "code",
   "execution_count": null,
   "metadata": {},
   "outputs": [],
   "source": []
  },
  {
   "cell_type": "code",
   "execution_count": null,
   "metadata": {},
   "outputs": [],
   "source": []
  }
 ],
 "metadata": {
  "kernelspec": {
   "display_name": "ktrain",
   "language": "python",
   "name": "ktrain"
  },
  "language_info": {
   "codemirror_mode": {
    "name": "ipython",
    "version": 3
   },
   "file_extension": ".py",
   "mimetype": "text/x-python",
   "name": "python",
   "nbconvert_exporter": "python",
   "pygments_lexer": "ipython3",
   "version": "3.7.7"
  }
 },
 "nbformat": 4,
 "nbformat_minor": 2
}
